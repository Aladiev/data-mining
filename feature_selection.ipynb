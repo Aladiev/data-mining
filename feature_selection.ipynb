{
 "cells": [
  {
   "cell_type": "code",
   "execution_count": 89,
   "metadata": {},
   "outputs": [
    {
     "data": {
      "text/html": [
       "<div>\n",
       "<style scoped>\n",
       "    .dataframe tbody tr th:only-of-type {\n",
       "        vertical-align: middle;\n",
       "    }\n",
       "\n",
       "    .dataframe tbody tr th {\n",
       "        vertical-align: top;\n",
       "    }\n",
       "\n",
       "    .dataframe thead th {\n",
       "        text-align: right;\n",
       "    }\n",
       "</style>\n",
       "<table border=\"1\" class=\"dataframe\">\n",
       "  <thead>\n",
       "    <tr style=\"text-align: right;\">\n",
       "      <th></th>\n",
       "      <th>Unnamed: 0</th>\n",
       "      <th>price</th>\n",
       "      <th>brand</th>\n",
       "      <th>model</th>\n",
       "      <th>year</th>\n",
       "      <th>title_status</th>\n",
       "      <th>mileage</th>\n",
       "      <th>color</th>\n",
       "      <th>vin</th>\n",
       "      <th>lot</th>\n",
       "      <th>state</th>\n",
       "      <th>country</th>\n",
       "      <th>condition</th>\n",
       "    </tr>\n",
       "  </thead>\n",
       "  <tbody>\n",
       "    <tr>\n",
       "      <th>0</th>\n",
       "      <td>0</td>\n",
       "      <td>6300</td>\n",
       "      <td>toyota</td>\n",
       "      <td>cruiser</td>\n",
       "      <td>2008</td>\n",
       "      <td>clean vehicle</td>\n",
       "      <td>274117.0</td>\n",
       "      <td>black</td>\n",
       "      <td>jtezu11f88k007763</td>\n",
       "      <td>159348797</td>\n",
       "      <td>new jersey</td>\n",
       "      <td>usa</td>\n",
       "      <td>10 days left</td>\n",
       "    </tr>\n",
       "    <tr>\n",
       "      <th>1</th>\n",
       "      <td>1</td>\n",
       "      <td>2899</td>\n",
       "      <td>ford</td>\n",
       "      <td>se</td>\n",
       "      <td>2011</td>\n",
       "      <td>clean vehicle</td>\n",
       "      <td>190552.0</td>\n",
       "      <td>silver</td>\n",
       "      <td>2fmdk3gc4bbb02217</td>\n",
       "      <td>166951262</td>\n",
       "      <td>tennessee</td>\n",
       "      <td>usa</td>\n",
       "      <td>6 days left</td>\n",
       "    </tr>\n",
       "    <tr>\n",
       "      <th>2</th>\n",
       "      <td>2</td>\n",
       "      <td>5350</td>\n",
       "      <td>dodge</td>\n",
       "      <td>mpv</td>\n",
       "      <td>2018</td>\n",
       "      <td>clean vehicle</td>\n",
       "      <td>39590.0</td>\n",
       "      <td>silver</td>\n",
       "      <td>3c4pdcgg5jt346413</td>\n",
       "      <td>167655728</td>\n",
       "      <td>georgia</td>\n",
       "      <td>usa</td>\n",
       "      <td>2 days left</td>\n",
       "    </tr>\n",
       "    <tr>\n",
       "      <th>3</th>\n",
       "      <td>3</td>\n",
       "      <td>25000</td>\n",
       "      <td>ford</td>\n",
       "      <td>door</td>\n",
       "      <td>2014</td>\n",
       "      <td>clean vehicle</td>\n",
       "      <td>64146.0</td>\n",
       "      <td>blue</td>\n",
       "      <td>1ftfw1et4efc23745</td>\n",
       "      <td>167753855</td>\n",
       "      <td>virginia</td>\n",
       "      <td>usa</td>\n",
       "      <td>22 hours left</td>\n",
       "    </tr>\n",
       "    <tr>\n",
       "      <th>4</th>\n",
       "      <td>4</td>\n",
       "      <td>27700</td>\n",
       "      <td>chevrolet</td>\n",
       "      <td>1500</td>\n",
       "      <td>2018</td>\n",
       "      <td>clean vehicle</td>\n",
       "      <td>6654.0</td>\n",
       "      <td>red</td>\n",
       "      <td>3gcpcrec2jg473991</td>\n",
       "      <td>167763266</td>\n",
       "      <td>florida</td>\n",
       "      <td>usa</td>\n",
       "      <td>22 hours left</td>\n",
       "    </tr>\n",
       "  </tbody>\n",
       "</table>\n",
       "</div>"
      ],
      "text/plain": [
       "   Unnamed: 0  price      brand    model  year   title_status   mileage  \\\n",
       "0           0   6300     toyota  cruiser  2008  clean vehicle  274117.0   \n",
       "1           1   2899       ford       se  2011  clean vehicle  190552.0   \n",
       "2           2   5350      dodge      mpv  2018  clean vehicle   39590.0   \n",
       "3           3  25000       ford     door  2014  clean vehicle   64146.0   \n",
       "4           4  27700  chevrolet     1500  2018  clean vehicle    6654.0   \n",
       "\n",
       "    color                  vin        lot       state country      condition  \n",
       "0   black    jtezu11f88k007763  159348797  new jersey     usa   10 days left  \n",
       "1  silver    2fmdk3gc4bbb02217  166951262   tennessee     usa    6 days left  \n",
       "2  silver    3c4pdcgg5jt346413  167655728     georgia     usa    2 days left  \n",
       "3    blue    1ftfw1et4efc23745  167753855    virginia     usa  22 hours left  \n",
       "4     red    3gcpcrec2jg473991  167763266     florida     usa  22 hours left  "
      ]
     },
     "execution_count": 89,
     "metadata": {},
     "output_type": "execute_result"
    }
   ],
   "source": [
    "import pandas as pd\n",
    "import numpy as np\n",
    "from matplotlib import pyplot as plt\n",
    "\n",
    "data = pd.read_csv('./src/USA_cars_datasets.csv')\n",
    "\n",
    "def calc_corr(x, y):\n",
    "    print(abs(np.corrcoef(x, y)[0, 1]))\n",
    "    \n",
    "def replace_string_values(data, sorted_unique_values):\n",
    "    i = 0\n",
    "    values = {}\n",
    "\n",
    "    for value in sorted_unique_values:\n",
    "        if value in values:\n",
    "            continue\n",
    "\n",
    "        values[value] = i\n",
    "\n",
    "        i += 1\n",
    "\n",
    "    return np.array(list(map(lambda x : values[x], data)))\n",
    "\n",
    "def sorted_by_avg_price(values):\n",
    "    x_values = np.unique(values)  \n",
    "    y_values = []\n",
    "\n",
    "    for x in x_values:\n",
    "        y_values.append(data.price.values[values == x].mean())\n",
    "\n",
    "    df = pd.DataFrame({\n",
    "        'x_values': x_values,\n",
    "        'y_values': y_values\n",
    "    }).sort_values(by=['y_values'])\n",
    "\n",
    "    return list(df.x_values)\n",
    "\n",
    "data.head()"
   ]
  },
  {
   "cell_type": "markdown",
   "metadata": {},
   "source": [
    "В данном разделе проверим признаки нашего датасета на пригодность. В качестве зависимой переменной возьмем цену автомобиля. Будем проверять корелляцию независимых переменных. Самыми логичными признаками для прогнозирования цены авто кажутся 2 признака: пробег и год выпуска; Убедимся в этом."
   ]
  },
  {
   "cell_type": "code",
   "execution_count": 72,
   "metadata": {},
   "outputs": [
    {
     "name": "stdout",
     "output_type": "stream",
     "text": [
      "0.4182735684917936\n",
      "0.400838186329367\n"
     ]
    }
   ],
   "source": [
    "x = data.year.values\n",
    "y = data.price.values\n",
    "\n",
    "calc_corr(x, y)\n",
    "\n",
    "x = data.mileage.values\n",
    "y = data.price.values\n",
    "\n",
    "calc_corr(x, y)"
   ]
  },
  {
   "cell_type": "markdown",
   "metadata": {},
   "source": [
    "Несмотря на то, что корелляция далека от единицы, показатели подтверждают нашу гипотезу о пригодности признаков. Также стоит отметить, что признаки почти равноценны.\n",
    "\n",
    "Также в датасете присутствует серийный номер, он разбит на 2 столбца - vin и lot (вин номер авто и номер партии). Логично, что от этой парочки значений мало толку в прогнозировании цены авто, так что долго останавливаться на них не будем, лишь убедимся, что их корелляция слаба."
   ]
  },
  {
   "cell_type": "code",
   "execution_count": 73,
   "metadata": {},
   "outputs": [
    {
     "name": "stdout",
     "output_type": "stream",
     "text": [
      "0.15936924684631346\n"
     ]
    }
   ],
   "source": [
    "x = data.lot.values\n",
    "y = data.price.values\n",
    "\n",
    "calc_corr(x, y)"
   ]
  },
  {
   "cell_type": "markdown",
   "metadata": {},
   "source": [
    "В датасете имеется статус автомобиля, говорящий нам о том, застраховано ли авто.  В датасете это бинарный фактор, но записаный строковым значением, переведем это в (0, 1). Посмотрим, влияет ли этот фактор на зависимую переменную."
   ]
  },
  {
   "cell_type": "code",
   "execution_count": 86,
   "metadata": {},
   "outputs": [
    {
     "name": "stdout",
     "output_type": "stream",
     "text": [
      "0.3583789487651185\n"
     ]
    }
   ],
   "source": [
    "x = replace_string_values(data.title_status.values, np.unique(data.title_status.values))\n",
    "y = data.price.values\n",
    "\n",
    "calc_corr(x, y)"
   ]
  },
  {
   "cell_type": "markdown",
   "metadata": {},
   "source": [
    "В целом, да, влияет.\n",
    "\n",
    "Теперь перейдем к марке авто. Для подсчета корелляции необходимо перевести строковые значения в численные данные. Сделаем это для начала на \"абум\", пронумеровав марки авто по алфавиту."
   ]
  },
  {
   "cell_type": "code",
   "execution_count": 85,
   "metadata": {},
   "outputs": [
    {
     "name": "stdout",
     "output_type": "stream",
     "text": [
      "0.21573307062467076\n"
     ]
    }
   ],
   "source": [
    "x = replace_string_values(data.brand.values, np.unique(data.brand.values))\n",
    "y = data.price.values\n",
    "\n",
    "calc_corr(x, y)"
   ]
  },
  {
   "cell_type": "markdown",
   "metadata": {},
   "source": [
    "Значение корелляции слабое, попробуем его улучшить путем правильного индексирования марок авто. Отсортируем бренды по средней цене автомобиля."
   ]
  },
  {
   "cell_type": "code",
   "execution_count": 91,
   "metadata": {},
   "outputs": [
    {
     "name": "stdout",
     "output_type": "stream",
     "text": [
      "0.33887165017681614\n"
     ]
    }
   ],
   "source": [
    "x = replace_string_values(data.brand.values, sorted_by_avg_price(data.brand.values))\n",
    "y = data.price.values\n",
    "\n",
    "calc_corr(x, y)"
   ]
  },
  {
   "cell_type": "markdown",
   "metadata": {},
   "source": [
    "Получилось улучшить результат, но всё равно недостаточно хорошо. Попробуем поколдовать с моделью машины. Отдельно от марки нет смысла рассматривать отдельные модели, если модели могут совпадать среди разных марок(Как, например, скитание модели Lanos среди бреднов Daewoo, Shevrolet, ЗАЗ). Если это так, то необходимо объединять признаки бренд и модель в один. Но для начала проверим, совпадают ли модели среди марок авто? "
   ]
  },
  {
   "cell_type": "code",
   "execution_count": 102,
   "metadata": {},
   "outputs": [],
   "source": [
    "df = pd.DataFrame(data, columns=[\"model\", \"brand\"])\n",
    "\n",
    "brands_by_model = {}\n",
    "\n",
    "models = df.model.values\n",
    "brands = df.brand.values\n",
    "\n",
    "for i in range(len(models)):\n",
    "    if models[i] in brands_by_model and brands[i] in brands_by_model[models[i]]:\n",
    "        continue\n",
    "    \n",
    "    brands_by_model[m[i]] = [brands[i]]\n",
    "    \n",
    "for model in brands_by_model:\n",
    "    if len(brands_by_model[model]) > 1:\n",
    "        print(model, brands_by_model[model])"
   ]
  },
  {
   "cell_type": "markdown",
   "metadata": {},
   "source": [
    "Отлично, модели авто уникальны среди всех брендов! Тогда проверим на пригодность признак модели авто."
   ]
  },
  {
   "cell_type": "code",
   "execution_count": 103,
   "metadata": {},
   "outputs": [
    {
     "name": "stdout",
     "output_type": "stream",
     "text": [
      "0.7346570048904479\n"
     ]
    }
   ],
   "source": [
    "x = replace_string_values(data.model.values, sorted_by_avg_price(data.model.values))\n",
    "y = data.price.values\n",
    "\n",
    "calc_corr(x, y)"
   ]
  },
  {
   "cell_type": "markdown",
   "metadata": {},
   "source": [
    "Отлично! Самая лучшая корелляция у признака модель машины, если нумеровать название модели по порядку увеличения/уменьшения средней стоимости авто. Таким образом, думаю, что стоит отобрать 3 следующих признака в качестве независимых переменных: пробег автомобиля, модель автомобиля и год его выпуска.\n"
   ]
  }
 ],
 "metadata": {
  "kernelspec": {
   "display_name": "Python 3",
   "language": "python",
   "name": "python3"
  },
  "language_info": {
   "codemirror_mode": {
    "name": "ipython",
    "version": 3
   },
   "file_extension": ".py",
   "mimetype": "text/x-python",
   "name": "python",
   "nbconvert_exporter": "python",
   "pygments_lexer": "ipython3",
   "version": "3.7.6"
  }
 },
 "nbformat": 4,
 "nbformat_minor": 4
}
